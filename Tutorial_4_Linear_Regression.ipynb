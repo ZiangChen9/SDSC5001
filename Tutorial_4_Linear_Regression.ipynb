{
  "cells": [
    {
      "cell_type": "markdown",
      "id": "8142eac4",
      "metadata": {
        "id": "8142eac4"
      },
      "source": [
        "### 0. Setup\n",
        "\n",
        "Import the libraries we need."
      ]
    },
    {
      "cell_type": "code",
      "execution_count": null,
      "id": "cf9128cf",
      "metadata": {
        "colab": {
          "base_uri": "https://localhost:8080/"
        },
        "collapsed": true,
        "id": "cf9128cf",
        "outputId": "6f9e3aac-772e-4834-8e5a-57dba8ffba2b"
      },
      "outputs": [],
      "source": [
        "! pip install ISLP\n",
        "import numpy as np\n",
        "import pandas as pd\n",
        "import statsmodels.api as sm\n",
        "from statsmodels.compat import lzip\n",
        "import seaborn as sns\n",
        "from ISLP import load_data\n",
        "from ISLP.models import (ModelSpec as MS,\n",
        "                         summarize,\n",
        "                         poly)"
      ]
    },
    {
      "cell_type": "markdown",
      "id": "8977e372",
      "metadata": {
        "id": "8977e372"
      },
      "source": [
        "### 1. Import data\n",
        "\n",
        "Load the data, and explore the relationship among all the attributes.\n",
        "\n",
        "\n",
        "### Overview\n",
        "The **Boston Housing Dataset** contains information on **506 housing units** in the suburbs of Boston, with **13 features** used to predict the median value of homes in different neighborhoods. Each sample in the dataset represents the statistical information of a particular area.\n",
        "\n",
        "### Features\n",
        "The dataset typically includes the following variables:\n",
        "\n",
        "1. **CRIM**: Per capita crime rate by town\n",
        "2. **ZN**: Proportion of residential land zoned for lots over 25,000 sq. ft.\n",
        "3. **INDUS**: Proportion of non-retail business acres per town\n",
        "4. **CHAS**: Charles River dummy variable (1 if tract bounds river; 0 otherwise)\n",
        "5. **NOX**: Nitric oxides concentration (parts per 10 million)\n",
        "6. **RM**: Average number of rooms per dwelling\n",
        "7. **AGE**: Proportion of owner-occupied units built prior to 1940\n",
        "8. **DIS**: Weighted distances to five Boston employment centers\n",
        "9. **RAD**: Index of accessibility to radial highways\n",
        "10. **TAX**: Full-value property tax rate per \\$10,000\n",
        "11. **PTRATIO**: Pupil-teacher ratio by town\n",
        "12. **B**: Calculation \\( B = 1000(Bk - 0.63)^2 \\) where Bk is the proportion of Black residents\n",
        "13. **LSTAT**: Percentage of the population considered lower status\n",
        "14. **MEDV**: Median value of owner-occupied homes (in \\$1000s)\n",
        "\n"
      ]
    },
    {
      "cell_type": "code",
      "execution_count": null,
      "id": "90b8708a",
      "metadata": {
        "colab": {
          "base_uri": "https://localhost:8080/"
        },
        "id": "90b8708a",
        "outputId": "7c2965dd-b174-4625-ec76-be783d6ce63d",
        "scrolled": true
      },
      "outputs": [],
      "source": [
        "Boston = load_data(\"Boston\")\n",
        "print(Boston.shape)\n",
        "print(Boston.columns)"
      ]
    },
    {
      "cell_type": "code",
      "execution_count": null,
      "id": "IwQl0Fqse0pR",
      "metadata": {
        "colab": {
          "base_uri": "https://localhost:8080/",
          "height": 491
        },
        "id": "IwQl0Fqse0pR",
        "outputId": "bd9be2e0-7dbf-49c1-f9da-5b4f031b004b"
      },
      "outputs": [],
      "source": [
        "Boston.isna().any()"
      ]
    },
    {
      "cell_type": "code",
      "execution_count": null,
      "id": "ivctuW_CV8WR",
      "metadata": {
        "colab": {
          "base_uri": "https://localhost:8080/",
          "height": 423
        },
        "id": "ivctuW_CV8WR",
        "outputId": "0dee79d9-e1a3-40bd-8fb1-ac298d21a3c0"
      },
      "outputs": [],
      "source": [
        "Boston[['crim', 'zn','indus', 'chas', 'nox']]"
      ]
    },
    {
      "cell_type": "code",
      "execution_count": null,
      "id": "92653821",
      "metadata": {
        "colab": {
          "base_uri": "https://localhost:8080/",
          "height": 1000
        },
        "id": "92653821",
        "outputId": "55009a32-296d-40a6-ec0a-1ba8d6961199"
      },
      "outputs": [],
      "source": [
        "sns.pairplot(Boston[['crim', 'zn','indus', 'chas', 'nox']])"
      ]
    },
    {
      "cell_type": "markdown",
      "id": "0142db12",
      "metadata": {
        "id": "0142db12"
      },
      "source": [
        "### 2. Modeling (Autocorrelation and Normality)"
      ]
    },
    {
      "cell_type": "code",
      "execution_count": null,
      "id": "c71096ae",
      "metadata": {
        "colab": {
          "base_uri": "https://localhost:8080/",
          "height": 669
        },
        "id": "c71096ae",
        "outputId": "38ec0a8a-5269-4681-c5a3-037a73973a31"
      },
      "outputs": [],
      "source": [
        "terms0 = Boston.columns.drop(['indus', 'age', 'medv'])\n",
        "X0 = MS(terms0).fit_transform(Boston)\n",
        "y0 = Boston['medv']\n",
        "model0 = sm.OLS(y0, X0)\n",
        "results0 = model0.fit()\n",
        "results0.summary()"
      ]
    },
    {
      "cell_type": "markdown",
      "id": "pb5r685pXk27",
      "metadata": {
        "id": "pb5r685pXk27"
      },
      "source": [
        "### Condition Number for Detecting Collinearity\n",
        "\n",
        "The condition number is commonly used to detect collinearity in regression analysis or other linear algebra applications. Collinearity refers to the situation where two or more independent variables in a model are highly correlated, which can lead to instability and inaccurate coefficient estimates. Here’s how the condition number is used to assess collinearity:\n",
        "\n",
        "### Condition Number and Collinearity\n",
        "In multiple linear regression, the condition number $\\kappa(X) $ of the design matrix $X $ can be used to assess collinearity. The condition number is calculated as:\n",
        "\n",
        "$$\n",
        "\\kappa(X) = \\frac{\\sigma_{\\text{max}}}{\\sigma_{\\text{min}}}\n",
        "$$\n",
        "where:\n",
        "- $\\sigma_{\\text{max}} $ is the largest singular value of matrix $X $\n",
        "- $\\sigma_{\\text{min}} $ is the smallest singular value of matrix $X $\n",
        "\n",
        "### Collinearity Assessment Criteria\n",
        "The condition number helps in identifying the degree of collinearity based on the following thresholds:\n",
        "\n",
        "- **1 ≤ $\\kappa(X) $ < 10**: Little to no collinearity, and the model is usually stable.\n",
        "- **10 ≤ $\\kappa(X)$ < 30**: Moderate collinearity is present, which may affect the model estimation to some extent.\n",
        "- **$\\kappa(X) \\geq 30$**: Severe collinearity is present, indicating that the model estimates are likely very unstable, and coefficient estimates may be unreliable.\n",
        "\n",
        "### Key Points\n",
        "- **High Condition Number Indicates Collinearity**: A large condition number suggests that the columns of matrix $X $ are highly correlated, leading to collinearity. This makes it difficult for the model to accurately estimate the coefficients due to overlapping information among the variables.\n",
        "- **Standardizing Data**: It is common to standardize data before calculating the condition number to eliminate the influence of different scales or units on the results.\n",
        "\n",
        "By evaluating the condition number, you can effectively detect multicollinearity issues in a model and take appropriate actions, such as removing correlated variables or applying techniques like principal component regression, to address the impact of collinearity.\n",
        "\n"
      ]
    },
    {
      "cell_type": "markdown",
      "id": "rtru6iJedvi-",
      "metadata": {
        "id": "rtru6iJedvi-"
      },
      "source": [
        "### Interaction Terms"
      ]
    },
    {
      "cell_type": "code",
      "execution_count": null,
      "id": "fDyvd8sWdxcD",
      "metadata": {
        "id": "fDyvd8sWdxcD"
      },
      "outputs": [],
      "source": [
        "from sklearn.preprocessing import PolynomialFeatures\n",
        "poly = PolynomialFeatures(interaction_only=True,include_bias = False)\n",
        "terms0 = Boston.columns.drop(['indus', 'age', 'medv'])\n",
        "y = Boston['medv']\n",
        "X = poly.fit_transform(Boston)\n",
        "Xb = sm.add_constant(X)\n",
        "mod = sm.OLS(y, Xb)\n",
        "res = mod.fit()\n",
        "res.summary()"
      ]
    },
    {
      "cell_type": "markdown",
      "id": "e1d16c3b",
      "metadata": {
        "id": "e1d16c3b"
      },
      "source": [
        "### 3. High-leverage points"
      ]
    },
    {
      "cell_type": "markdown",
      "id": "-H8sc-60Y7g4",
      "metadata": {
        "id": "-H8sc-60Y7g4"
      },
      "source": [
        "### 1. Code Explanation\n",
        "https://www.statsmodels.org/stable/generated/statsmodels.graphics.regressionplots.influence_plot.html\n",
        "\n",
        "external:bool\n",
        "\n",
        "Whether to use externally or internally studentized residuals. It is recommended to leave external as True (default).\n",
        "\n",
        "external residual represents the deleted residual.\n",
        "\n",
        "### 2. What the Plot Represents\n",
        "- Row labels for the observations in which the leverage, measured by the diagonal of the hat matrix, is high or the residuals are large, as the combination of large residuals and a high influence value indicates an influence point. The value of large residuals can be controlled using the alpha parameter. Large leverage points are identified as hat_i > 2 * (df_model + 1)/nobs.\n",
        "\n",
        "\n",
        "- Cook's Distance measures the influence of each data point on the overall fit of the model; a larger value indicates that the data point has a more substantial impact on the model’s estimates.\n",
        "\n",
        "- While leverage (the X-axis) indicates how much a data point differs in the independent variable space (i.e., how far it is from other points), the size of the points is determined by Cook's Distance, which takes into account both leverage and the residuals.\n",
        "\n"
      ]
    },
    {
      "cell_type": "code",
      "execution_count": null,
      "id": "2a782cf1",
      "metadata": {
        "colab": {
          "base_uri": "https://localhost:8080/",
          "height": 489
        },
        "collapsed": true,
        "id": "2a782cf1",
        "outputId": "9d3a8dc2-1fd1-4815-9c17-312a3c2b6532"
      },
      "outputs": [],
      "source": [
        "fig = sm.graphics.influence_plot(results0,criterion='cooks',)\n",
        "fig.tight_layout(pad=1.0)"
      ]
    },
    {
      "cell_type": "code",
      "execution_count": null,
      "id": "0af8143f",
      "metadata": {
        "colab": {
          "base_uri": "https://localhost:8080/"
        },
        "id": "0af8143f",
        "outputId": "1317d30e-1dc1-4382-e02b-92dea17b896f",
        "scrolled": true
      },
      "outputs": [],
      "source": [
        "df = Boston[terms0.append(pd.Index([\"medv\"]))]\n",
        "print(\"the scale of raw data:\", df.shape)\n",
        "# obtain Cook's distance\n",
        "lm_cooksd = results0.get_influence().cooks_distance[0]\n",
        "\n",
        "# get length of df to obtain n\n",
        "n = len(Boston[\"medv\"])\n",
        "\n",
        "# calculate critical d\n",
        "critical_d = 4/n\n",
        "print('Critical Cooks distance:', critical_d)\n",
        "\n",
        "# identification of potential outliers with leverage\n",
        "out_d = lm_cooksd > critical_d\n",
        "\n",
        "# output potential outliers with leverage\n",
        "print(df.index[out_d], \"\\n\",\n",
        "    lm_cooksd[out_d])\n",
        "print(\"lenth:\", len(lm_cooksd[out_d]))\n",
        "subset = ~df.index.isin(df.index[out_d].tolist())\n",
        "Boston = Boston.iloc[subset] #remove outliers and fit again"
      ]
    },
    {
      "cell_type": "code",
      "execution_count": null,
      "id": "4deb6e65",
      "metadata": {
        "colab": {
          "base_uri": "https://localhost:8080/",
          "height": 669
        },
        "id": "4deb6e65",
        "outputId": "d019785f-9640-4d42-c291-0c517b3b68cd"
      },
      "outputs": [],
      "source": [
        "terms0 = Boston.columns.drop(['indus', 'age', 'medv'])\n",
        "X0 = MS(terms0).fit_transform(Boston)\n",
        "y0 = Boston['medv']\n",
        "model0 = sm.OLS(y0, X0)\n",
        "results0 = model0.fit()\n",
        "results0.summary()"
      ]
    },
    {
      "cell_type": "markdown",
      "id": "95ec7f74",
      "metadata": {
        "id": "95ec7f74"
      },
      "source": [
        "### 4. Heteroscedasticity"
      ]
    },
    {
      "cell_type": "code",
      "execution_count": null,
      "id": "e65c6d17",
      "metadata": {
        "colab": {
          "base_uri": "https://localhost:8080/",
          "height": 472
        },
        "id": "e65c6d17",
        "outputId": "fccfe1a5-3baa-4400-f637-9e03c3b56b60"
      },
      "outputs": [],
      "source": [
        "# fitted values\n",
        "model_fitted_y = results0.fittedvalues\n",
        "df = Boston[terms0.append(pd.Index([\"medv\"]))]\n",
        "#  Plot\n",
        "plot = sns.residplot(x=model_fitted_y, y='medv', data=df, lowess=True,\n",
        "                     scatter_kws={'alpha': 0.5},\n",
        "                     line_kws={'color': 'red', 'lw': 1, 'alpha': 0.8})\n",
        "\n",
        "# Titel and labels\n",
        "plot.set_title('Residuals vs Fitted')\n",
        "plot.set_xlabel('Fitted values')\n",
        "plot.set_ylabel('Residuals');"
      ]
    },
    {
      "cell_type": "markdown",
      "id": "56xuZqYbcQnS",
      "metadata": {
        "id": "56xuZqYbcQnS"
      },
      "source": [
        "### Test for Heteroscedasticity\n",
        "\n",
        "The Breusch-Pagan test is used to detect heteroscedasticity in a regression model.\n",
        "\n",
        "\n",
        "- Lagrange multiplier statistic: A statistic used to test for heteroscedasticity.\n",
        "- p-value: The p-value associated with the Lagrange multiplier statistic, indicating the significance level.\n",
        "- f-value: The F-test statistic, another method of testing for heteroscedasticity.\n",
        "- f p-value: The p-value corresponding to the F-test statistic."
      ]
    },
    {
      "cell_type": "code",
      "execution_count": null,
      "id": "56cf8ee6",
      "metadata": {
        "colab": {
          "base_uri": "https://localhost:8080/"
        },
        "id": "56cf8ee6",
        "outputId": "4a19002d-6a14-4d40-91d6-4699fabc10a1"
      },
      "outputs": [],
      "source": [
        "name = ['Lagrange multiplier statistic', 'p-value', 'f-value', 'f p-value']\n",
        "test = sm.stats.het_breuschpagan(results0.resid, results0.model.exog)\n",
        "lzip(name, test)"
      ]
    },
    {
      "cell_type": "markdown",
      "id": "7b240f63",
      "metadata": {
        "id": "7b240f63"
      },
      "source": [
        "### 5. Collinearity\n",
        "\n"
      ]
    },
    {
      "cell_type": "code",
      "execution_count": null,
      "id": "9021c68b",
      "metadata": {
        "colab": {
          "base_uri": "https://localhost:8080/",
          "height": 462
        },
        "id": "9021c68b",
        "outputId": "f401abe9-f1a7-40ed-af92-f859f61eec8d"
      },
      "outputs": [],
      "source": [
        "# Inspect correlation\n",
        "# Calculate correlation using the default method ( \"pearson\")\n",
        "df = Boston[terms0]\n",
        "corr = df.corr()\n",
        "# optimize aesthetics: generate mask for removing duplicate / unnecessary info\n",
        "mask = np.zeros_like(corr, dtype=bool)\n",
        "mask[np.triu_indices_from(mask)] = True\n",
        "# Generate a custom diverging colormap as indicator for correlations:\n",
        "cmap = sns.diverging_palette(220, 10, as_cmap=True)\n",
        "# Plot\n",
        "sns.heatmap(corr, mask=mask, cmap=cmap, annot=True,  square=True, annot_kws={\"size\": 12});"
      ]
    },
    {
      "cell_type": "code",
      "execution_count": null,
      "id": "b6d1518f",
      "metadata": {
        "colab": {
          "base_uri": "https://localhost:8080/",
          "height": 648
        },
        "id": "b6d1518f",
        "outputId": "0306e01c-fbec-4294-df25-654e3cedce6b"
      },
      "outputs": [],
      "source": [
        "terms0 = Boston.columns.drop(['indus', 'age', 'medv', 'rad']) #drop rad because of high correlation\n",
        "X0 = MS(terms0).fit_transform(Boston)\n",
        "y0 = Boston['medv']\n",
        "model0 = sm.OLS(y0, X0)\n",
        "results0 = model0.fit()\n",
        "results0.summary() #Conditional Number decrease"
      ]
    },
    {
      "cell_type": "markdown",
      "id": "01d5a876",
      "metadata": {
        "id": "01d5a876"
      },
      "source": [
        " ### 6. Only focus on the independent variables which have linear relationship with dependent variable"
      ]
    },
    {
      "cell_type": "code",
      "execution_count": null,
      "id": "ea980e8b",
      "metadata": {
        "colab": {
          "base_uri": "https://localhost:8080/",
          "height": 487
        },
        "id": "ea980e8b",
        "outputId": "a26ebf4c-fe24-4c37-fba0-d3b2ba0e70c9"
      },
      "outputs": [],
      "source": [
        "terms0 = Boston.columns.drop(['zn','crim','nox', 'indus', 'chas', 'age', 'rad', 'tax',\n",
        "       'ptratio','medv'])\n",
        "X0 = MS(terms0).fit_transform(Boston)\n",
        "y0 = Boston['medv']\n",
        "model0 = sm.OLS(y0, X0)\n",
        "results0 = model0.fit()\n",
        "results0.summary() #Conditional number pretty small"
      ]
    },
    {
      "cell_type": "code",
      "execution_count": null,
      "id": "134b25b9",
      "metadata": {
        "colab": {
          "base_uri": "https://localhost:8080/",
          "height": 713
        },
        "id": "134b25b9",
        "outputId": "847db2ae-0b10-4450-cdfa-3894652c73be"
      },
      "outputs": [],
      "source": [
        "df = Boston[terms0.append(pd.Index([\"medv\"]))]\n",
        "print(\"the scale of raw data:\", df.shape)\n",
        "# obtain Cook's distance\n",
        "lm_cooksd = results0.get_influence().cooks_distance[0]\n",
        "\n",
        "# get length of df to obtain n\n",
        "n = len(Boston[\"medv\"])\n",
        "\n",
        "# calculate critical d\n",
        "critical_d = 4/n\n",
        "print('Critical Cooks distance:', critical_d)\n",
        "\n",
        "# identification of potential outliers with leverage\n",
        "out_d = lm_cooksd > critical_d\n",
        "\n",
        "# output potential outliers with leverage\n",
        "print(df.index[out_d], \"\\n\",\n",
        "    lm_cooksd[out_d])\n",
        "print(\"lenth:\", len(lm_cooksd[out_d]))\n",
        "subset = ~df.index.isin(df.index[out_d].tolist())\n",
        "Boston = Boston.iloc[subset]\n",
        "terms0 = Boston.columns.drop(['zn','crim','nox', 'indus', 'chas', 'age', 'rad', 'tax',\n",
        "       'ptratio','medv'])\n",
        "X0 = MS(terms0).fit_transform(Boston)\n",
        "y0 = Boston['medv']\n",
        "model0 = sm.OLS(y0, X0)\n",
        "results0 = model0.fit()\n",
        "results0.summary()"
      ]
    },
    {
      "cell_type": "code",
      "execution_count": null,
      "id": "1a0a1bbb",
      "metadata": {
        "colab": {
          "base_uri": "https://localhost:8080/"
        },
        "id": "1a0a1bbb",
        "outputId": "4808c5a6-bd11-45a9-c86d-083f9324c1ed"
      },
      "outputs": [],
      "source": [
        "name = ['Lagrange multiplier statistic', 'p-value', 'f-value', 'f p-value']\n",
        "test = sm.stats.het_breuschpagan(results0.resid, results0.model.exog)\n",
        "lzip(name, test)"
      ]
    },
    {
      "cell_type": "code",
      "execution_count": null,
      "id": "07d6eaf7",
      "metadata": {
        "colab": {
          "base_uri": "https://localhost:8080/",
          "height": 1000
        },
        "id": "07d6eaf7",
        "outputId": "99c3b4c5-aef6-4368-84dc-fcaeab815f99"
      },
      "outputs": [],
      "source": [
        "sns.pairplot(Boston)"
      ]
    }
  ],
  "metadata": {
    "colab": {
      "provenance": []
    },
    "kernelspec": {
      "display_name": "base",
      "language": "python",
      "name": "python3"
    },
    "language_info": {
      "codemirror_mode": {
        "name": "ipython",
        "version": 3
      },
      "file_extension": ".py",
      "mimetype": "text/x-python",
      "name": "python",
      "nbconvert_exporter": "python",
      "pygments_lexer": "ipython3",
      "version": "3.12.4"
    }
  },
  "nbformat": 4,
  "nbformat_minor": 5
}
